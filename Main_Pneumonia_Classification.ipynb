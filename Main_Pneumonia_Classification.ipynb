{
 "cells": [
  {
   "cell_type": "markdown",
   "metadata": {},
   "source": [
    "# Importing the Libraries"
   ]
  },
  {
   "cell_type": "code",
   "execution_count": 1,
   "metadata": {},
   "outputs": [],
   "source": [
    "from tensorflow import keras\n",
    "from tensorflow.keras.preprocessing.image import ImageDataGenerator\n",
    "from tensorflow.keras.models import Sequential\n",
    "from tensorflow.keras.layers import Conv2D\n",
    "from tensorflow.keras.layers import MaxPooling2D\n",
    "from tensorflow.keras.layers import Flatten\n",
    "from tensorflow.keras.layers import Dense\n",
    "from tensorflow.keras.callbacks import EarlyStopping\n",
    "from tensorflow.keras.callbacks import ModelCheckpoint\n",
    "import matplotlib.pyplot as plt"
   ]
  },
  {
   "cell_type": "markdown",
   "metadata": {},
   "source": [
    "# Getting and loading the Training, Testing and Validation set"
   ]
  },
  {
   "cell_type": "code",
   "execution_count": 2,
   "metadata": {},
   "outputs": [],
   "source": [
    "train_path = r\"C:\\AI-DocHelper_Models_Code\\Pneumonia_Detection\\dataset\\train\"\n",
    "validation_path = r\"C:\\AI-DocHelper_Models_Code\\Pneumonia_Detection\\dataset\\val\"\n",
    "test_path = r\"C:\\AI-DocHelper_Models_Code\\Pneumonia_Detection\\dataset\\test\""
   ]
  },
  {
   "cell_type": "code",
   "execution_count": 3,
   "metadata": {},
   "outputs": [],
   "source": [
    "batch_size = 16\n",
    "img_size = (256, 256)"
   ]
  },
  {
   "cell_type": "code",
   "execution_count": 4,
   "metadata": {},
   "outputs": [],
   "source": [
    "train_datagen = ImageDataGenerator(rescale = 1./255,\n",
    "                                  rotation_range = 40.,\n",
    "                                  width_shift_range = 0.2,\n",
    "                                  height_shift_range = 0.2,\n",
    "                                  shear_range = 0.2,\n",
    "                                  zoom_range = 0.2,\n",
    "                                  horizontal_flip = True)\n",
    "\n",
    "validation_datagen = ImageDataGenerator(rescale = 1./255)"
   ]
  },
  {
   "cell_type": "code",
   "execution_count": 5,
   "metadata": {},
   "outputs": [
    {
     "name": "stdout",
     "output_type": "stream",
     "text": [
      "Found 4192 images belonging to 2 classes.\n",
      "Found 1040 images belonging to 2 classes.\n",
      "Found 624 images belonging to 2 classes.\n"
     ]
    }
   ],
   "source": [
    "train_generator = train_datagen.flow_from_directory(train_path,\n",
    "                                                   target_size = img_size,\n",
    "                                                   batch_size = batch_size,\n",
    "                                                    color_mode = \"grayscale\",\n",
    "                                                   class_mode = \"binary\")\n",
    "\n",
    "validation_generator = validation_datagen.flow_from_directory(validation_path,\n",
    "                                                             target_size = img_size,\n",
    "                                                             batch_size = batch_size,\n",
    "                                                              color_mode = \"grayscale\",\n",
    "                                                             class_mode = \"binary\")\n",
    "\n",
    "test_generator = validation_datagen.flow_from_directory(test_path,\n",
    "                                                       target_size = img_size,\n",
    "                                                       batch_size = batch_size,\n",
    "                                                       color_mode = \"grayscale\",\n",
    "                                                       class_mode = \"binary\",\n",
    "                                                       shuffle = False)"
   ]
  },
  {
   "cell_type": "markdown",
   "metadata": {},
   "source": [
    "# Getting the class names"
   ]
  },
  {
   "cell_type": "code",
   "execution_count": 6,
   "metadata": {},
   "outputs": [
    {
     "name": "stdout",
     "output_type": "stream",
     "text": [
      "{0: 'normal', 1: 'opacity'}\n"
     ]
    }
   ],
   "source": [
    "temp_classes = dict(train_generator.class_indices)\n",
    "\n",
    "classes = dict()\n",
    "for (k, v) in temp_classes.items() :\n",
    "    classes[v] = k\n",
    "print(classes)"
   ]
  },
  {
   "cell_type": "markdown",
   "metadata": {},
   "source": [
    "# Building the CNN"
   ]
  },
  {
   "cell_type": "markdown",
   "metadata": {},
   "source": [
    "## Initalising the CNN"
   ]
  },
  {
   "cell_type": "code",
   "execution_count": 7,
   "metadata": {},
   "outputs": [],
   "source": [
    "model = Sequential()"
   ]
  },
  {
   "cell_type": "markdown",
   "metadata": {},
   "source": [
    "# Adding the layers"
   ]
  },
  {
   "cell_type": "markdown",
   "metadata": {},
   "source": [
    "## Adding the First Convolutional and Pooling layers"
   ]
  },
  {
   "cell_type": "code",
   "execution_count": 8,
   "metadata": {},
   "outputs": [],
   "source": [
    "model.add(Conv2D(32, (3, 3), input_shape = (img_size[0], img_size[1], 1), activation = \"relu\"))\n",
    "model.add(MaxPooling2D(pool_size = (2, 2)))"
   ]
  },
  {
   "cell_type": "markdown",
   "metadata": {},
   "source": [
    "## Adding the Second Convolutional and Pooling layers"
   ]
  },
  {
   "cell_type": "code",
   "execution_count": 9,
   "metadata": {},
   "outputs": [],
   "source": [
    "model.add(Conv2D(32, (3, 3), input_shape = (img_size[0], img_size[1], 1), activation = \"relu\"))\n",
    "model.add(MaxPooling2D(pool_size = (2, 2)))"
   ]
  },
  {
   "cell_type": "markdown",
   "metadata": {},
   "source": [
    "## Adding the Third Convolutional and Pooling layers"
   ]
  },
  {
   "cell_type": "code",
   "execution_count": 10,
   "metadata": {},
   "outputs": [],
   "source": [
    "model.add(Conv2D(64, (3, 3), input_shape = (img_size[0], img_size[1], 1), activation = \"relu\"))\n",
    "model.add(MaxPooling2D(pool_size = (2, 2)))"
   ]
  },
  {
   "cell_type": "markdown",
   "metadata": {},
   "source": [
    "## Adding the Forth Convolutional and Pooling layers"
   ]
  },
  {
   "cell_type": "code",
   "execution_count": 11,
   "metadata": {},
   "outputs": [],
   "source": [
    "model.add(Conv2D(64, (3, 3), input_shape = (img_size[0], img_size[1], 1), activation = \"relu\"))\n",
    "model.add(MaxPooling2D(pool_size = (2, 2)))"
   ]
  },
  {
   "cell_type": "markdown",
   "metadata": {},
   "source": [
    "## Adding the Fifth Convolutional and Pooling layers"
   ]
  },
  {
   "cell_type": "code",
   "execution_count": 12,
   "metadata": {},
   "outputs": [],
   "source": [
    "model.add(Conv2D(128, (3, 3), input_shape = (img_size[0], img_size[1], 1), activation = \"relu\"))\n",
    "model.add(MaxPooling2D(pool_size = (2, 2)))"
   ]
  },
  {
   "cell_type": "markdown",
   "metadata": {},
   "source": [
    "## Adding the Sixth Convolutional and Pooling layers"
   ]
  },
  {
   "cell_type": "code",
   "execution_count": 13,
   "metadata": {},
   "outputs": [],
   "source": [
    "model.add(Conv2D(128, (3, 3), input_shape = (img_size[0], img_size[1], 1), activation = \"relu\"))\n",
    "model.add(MaxPooling2D(pool_size = (2, 2)))"
   ]
  },
  {
   "cell_type": "markdown",
   "metadata": {},
   "source": [
    "# Flattening all the layers"
   ]
  },
  {
   "cell_type": "code",
   "execution_count": 14,
   "metadata": {},
   "outputs": [],
   "source": [
    "model.add(Flatten())"
   ]
  },
  {
   "cell_type": "markdown",
   "metadata": {},
   "source": [
    "## Adding the First Fully Connected Layer"
   ]
  },
  {
   "cell_type": "code",
   "execution_count": 15,
   "metadata": {},
   "outputs": [],
   "source": [
    "model.add(Dense(units = 128, activation = \"relu\"))"
   ]
  },
  {
   "cell_type": "markdown",
   "metadata": {},
   "source": [
    "## Adding the Second Fully Connected Layer"
   ]
  },
  {
   "cell_type": "code",
   "execution_count": 16,
   "metadata": {},
   "outputs": [],
   "source": [
    "model.add(Dense(units = 64, activation = \"relu\"))"
   ]
  },
  {
   "cell_type": "markdown",
   "metadata": {},
   "source": [
    "## Adding the Third Fully Connected Layer"
   ]
  },
  {
   "cell_type": "code",
   "execution_count": 17,
   "metadata": {},
   "outputs": [],
   "source": [
    "model.add(Dense(units = 32, activation = \"relu\"))"
   ]
  },
  {
   "cell_type": "markdown",
   "metadata": {},
   "source": [
    "## Adding the Final Fully Connected Layer"
   ]
  },
  {
   "cell_type": "code",
   "execution_count": 18,
   "metadata": {},
   "outputs": [],
   "source": [
    "model.add(Dense(units = 1, activation = \"sigmoid\"))"
   ]
  },
  {
   "cell_type": "markdown",
   "metadata": {},
   "source": [
    "## Displaying the model summary"
   ]
  },
  {
   "cell_type": "code",
   "execution_count": 19,
   "metadata": {},
   "outputs": [
    {
     "name": "stdout",
     "output_type": "stream",
     "text": [
      "Model: \"sequential\"\n",
      "_________________________________________________________________\n",
      "Layer (type)                 Output Shape              Param #   \n",
      "=================================================================\n",
      "conv2d (Conv2D)              (None, 254, 254, 32)      320       \n",
      "_________________________________________________________________\n",
      "max_pooling2d (MaxPooling2D) (None, 127, 127, 32)      0         \n",
      "_________________________________________________________________\n",
      "conv2d_1 (Conv2D)            (None, 125, 125, 32)      9248      \n",
      "_________________________________________________________________\n",
      "max_pooling2d_1 (MaxPooling2 (None, 62, 62, 32)        0         \n",
      "_________________________________________________________________\n",
      "conv2d_2 (Conv2D)            (None, 60, 60, 64)        18496     \n",
      "_________________________________________________________________\n",
      "max_pooling2d_2 (MaxPooling2 (None, 30, 30, 64)        0         \n",
      "_________________________________________________________________\n",
      "conv2d_3 (Conv2D)            (None, 28, 28, 64)        36928     \n",
      "_________________________________________________________________\n",
      "max_pooling2d_3 (MaxPooling2 (None, 14, 14, 64)        0         \n",
      "_________________________________________________________________\n",
      "conv2d_4 (Conv2D)            (None, 12, 12, 128)       73856     \n",
      "_________________________________________________________________\n",
      "max_pooling2d_4 (MaxPooling2 (None, 6, 6, 128)         0         \n",
      "_________________________________________________________________\n",
      "conv2d_5 (Conv2D)            (None, 4, 4, 128)         147584    \n",
      "_________________________________________________________________\n",
      "max_pooling2d_5 (MaxPooling2 (None, 2, 2, 128)         0         \n",
      "_________________________________________________________________\n",
      "flatten (Flatten)            (None, 512)               0         \n",
      "_________________________________________________________________\n",
      "dense (Dense)                (None, 128)               65664     \n",
      "_________________________________________________________________\n",
      "dense_1 (Dense)              (None, 64)                8256      \n",
      "_________________________________________________________________\n",
      "dense_2 (Dense)              (None, 32)                2080      \n",
      "_________________________________________________________________\n",
      "dense_3 (Dense)              (None, 1)                 33        \n",
      "=================================================================\n",
      "Total params: 362,465\n",
      "Trainable params: 362,465\n",
      "Non-trainable params: 0\n",
      "_________________________________________________________________\n"
     ]
    }
   ],
   "source": [
    "model.summary()"
   ]
  },
  {
   "cell_type": "markdown",
   "metadata": {},
   "source": [
    "## Compiling the CNN model"
   ]
  },
  {
   "cell_type": "code",
   "execution_count": 20,
   "metadata": {},
   "outputs": [],
   "source": [
    "model.compile(optimizer = \"adam\",\n",
    "             loss = \"binary_crossentropy\", \n",
    "             metrics = [\"accuracy\"])"
   ]
  },
  {
   "cell_type": "markdown",
   "metadata": {},
   "source": [
    "# Training the CNN"
   ]
  },
  {
   "cell_type": "markdown",
   "metadata": {},
   "source": [
    "## Saving the Best model only"
   ]
  },
  {
   "cell_type": "code",
   "execution_count": 21,
   "metadata": {},
   "outputs": [],
   "source": [
    "checkpoint = ModelCheckpoint(filepath = \"pneumonia.h5\",\n",
    "                            save_best_only = True)"
   ]
  },
  {
   "cell_type": "markdown",
   "metadata": {},
   "source": [
    "## Stopping the Training, if there is no improvement"
   ]
  },
  {
   "cell_type": "code",
   "execution_count": 22,
   "metadata": {},
   "outputs": [],
   "source": [
    "earlyStopping = EarlyStopping(monitor=\"val_loss\", \n",
    "                              patience = 10,\n",
    "                             restore_best_weights = True,\n",
    "                             verbose = 1)"
   ]
  },
  {
   "cell_type": "markdown",
   "metadata": {},
   "source": [
    "## Calculating the steps_per_epoch and validation_steps"
   ]
  },
  {
   "cell_type": "code",
   "execution_count": 23,
   "metadata": {},
   "outputs": [
    {
     "name": "stdout",
     "output_type": "stream",
     "text": [
      "262\n",
      "65\n"
     ]
    }
   ],
   "source": [
    "import math\n",
    "\n",
    "batch_size = batch_size\n",
    "training_size = 4192\n",
    "validation_size = 1040\n",
    "\n",
    "compute_steps_per_epoch = lambda x : int(math.ceil(1. * x / batch_size))\n",
    "\n",
    "steps_per_epoch = compute_steps_per_epoch(training_size)\n",
    "validation_steps = compute_steps_per_epoch(validation_size)\n",
    "\n",
    "print(steps_per_epoch)\n",
    "print(validation_steps)"
   ]
  },
  {
   "cell_type": "code",
   "execution_count": 24,
   "metadata": {},
   "outputs": [
    {
     "name": "stderr",
     "output_type": "stream",
     "text": [
      "C:\\Users\\RAJ SHAH\\anaconda3\\lib\\site-packages\\tensorflow\\python\\keras\\engine\\training.py:1844: UserWarning: `Model.fit_generator` is deprecated and will be removed in a future version. Please use `Model.fit`, which supports generators.\n",
      "  warnings.warn('`Model.fit_generator` is deprecated and '\n"
     ]
    },
    {
     "name": "stdout",
     "output_type": "stream",
     "text": [
      "Epoch 1/50\n",
      "262/262 [==============================] - 186s 706ms/step - loss: 0.5634 - accuracy: 0.7428 - val_loss: 0.5485 - val_accuracy: 0.7433\n",
      "Epoch 2/50\n",
      "262/262 [==============================] - 172s 655ms/step - loss: 0.4392 - accuracy: 0.7463 - val_loss: 0.6420 - val_accuracy: 0.4904\n",
      "Epoch 3/50\n",
      "262/262 [==============================] - 160s 610ms/step - loss: 0.4088 - accuracy: 0.7648 - val_loss: 0.4795 - val_accuracy: 0.7923\n",
      "Epoch 4/50\n",
      "262/262 [==============================] - 165s 631ms/step - loss: 0.3124 - accuracy: 0.8633 - val_loss: 0.3574 - val_accuracy: 0.8337\n",
      "Epoch 5/50\n",
      "262/262 [==============================] - 178s 677ms/step - loss: 0.2846 - accuracy: 0.8773 - val_loss: 0.3791 - val_accuracy: 0.8038\n",
      "Epoch 6/50\n",
      "262/262 [==============================] - 171s 651ms/step - loss: 0.2769 - accuracy: 0.8855 - val_loss: 0.3808 - val_accuracy: 0.8106\n",
      "Epoch 7/50\n",
      "262/262 [==============================] - 160s 609ms/step - loss: 0.2507 - accuracy: 0.8963 - val_loss: 0.3730 - val_accuracy: 0.8173\n",
      "Epoch 8/50\n",
      "262/262 [==============================] - 166s 635ms/step - loss: 0.2573 - accuracy: 0.8899 - val_loss: 0.3410 - val_accuracy: 0.8327\n",
      "Epoch 9/50\n",
      "262/262 [==============================] - 165s 629ms/step - loss: 0.2248 - accuracy: 0.9052 - val_loss: 0.3377 - val_accuracy: 0.8587\n",
      "Epoch 10/50\n",
      "262/262 [==============================] - 166s 634ms/step - loss: 0.2395 - accuracy: 0.8975 - val_loss: 0.3732 - val_accuracy: 0.8471\n",
      "Epoch 11/50\n",
      "262/262 [==============================] - 167s 637ms/step - loss: 0.2242 - accuracy: 0.9032 - val_loss: 0.3301 - val_accuracy: 0.8712\n",
      "Epoch 12/50\n",
      "262/262 [==============================] - 163s 623ms/step - loss: 0.2206 - accuracy: 0.9126 - val_loss: 0.2408 - val_accuracy: 0.9048\n",
      "Epoch 13/50\n",
      "262/262 [==============================] - 169s 646ms/step - loss: 0.2110 - accuracy: 0.9140 - val_loss: 0.2250 - val_accuracy: 0.9000\n",
      "Epoch 14/50\n",
      "262/262 [==============================] - 158s 604ms/step - loss: 0.1963 - accuracy: 0.9206 - val_loss: 0.3158 - val_accuracy: 0.8673\n",
      "Epoch 15/50\n",
      "262/262 [==============================] - 158s 601ms/step - loss: 0.2124 - accuracy: 0.9144 - val_loss: 0.3221 - val_accuracy: 0.8596\n",
      "Epoch 16/50\n",
      "262/262 [==============================] - 155s 592ms/step - loss: 0.1923 - accuracy: 0.9166 - val_loss: 0.2671 - val_accuracy: 0.8942\n",
      "Epoch 17/50\n",
      "262/262 [==============================] - 165s 630ms/step - loss: 0.1725 - accuracy: 0.9336 - val_loss: 0.2530 - val_accuracy: 0.8933\n",
      "Epoch 18/50\n",
      "262/262 [==============================] - 162s 618ms/step - loss: 0.1821 - accuracy: 0.9312 - val_loss: 0.2692 - val_accuracy: 0.8962\n",
      "Epoch 19/50\n",
      "262/262 [==============================] - 169s 643ms/step - loss: 0.1961 - accuracy: 0.9157 - val_loss: 0.2172 - val_accuracy: 0.9106\n",
      "Epoch 20/50\n",
      "262/262 [==============================] - 164s 624ms/step - loss: 0.1815 - accuracy: 0.9292 - val_loss: 0.5232 - val_accuracy: 0.7798\n",
      "Epoch 21/50\n",
      "262/262 [==============================] - 172s 656ms/step - loss: 0.1836 - accuracy: 0.9205 - val_loss: 0.1653 - val_accuracy: 0.9298\n",
      "Epoch 22/50\n",
      "262/262 [==============================] - 171s 654ms/step - loss: 0.1737 - accuracy: 0.9289 - val_loss: 0.1846 - val_accuracy: 0.9308\n",
      "Epoch 23/50\n",
      "262/262 [==============================] - 180s 687ms/step - loss: 0.1804 - accuracy: 0.9308 - val_loss: 0.1550 - val_accuracy: 0.9394\n",
      "Epoch 24/50\n",
      "262/262 [==============================] - 179s 682ms/step - loss: 0.1660 - accuracy: 0.9342 - val_loss: 0.1690 - val_accuracy: 0.9385\n",
      "Epoch 25/50\n",
      "262/262 [==============================] - 170s 647ms/step - loss: 0.1652 - accuracy: 0.9309 - val_loss: 0.1862 - val_accuracy: 0.9279\n",
      "Epoch 26/50\n",
      "262/262 [==============================] - 170s 649ms/step - loss: 0.1596 - accuracy: 0.9325 - val_loss: 0.1436 - val_accuracy: 0.9510\n",
      "Epoch 27/50\n",
      "262/262 [==============================] - 173s 660ms/step - loss: 0.1572 - accuracy: 0.9319 - val_loss: 0.1643 - val_accuracy: 0.9308\n",
      "Epoch 28/50\n",
      "262/262 [==============================] - 172s 656ms/step - loss: 0.1571 - accuracy: 0.9378 - val_loss: 0.1469 - val_accuracy: 0.9433\n",
      "Epoch 29/50\n",
      "262/262 [==============================] - 174s 663ms/step - loss: 0.1390 - accuracy: 0.9398 - val_loss: 0.1672 - val_accuracy: 0.9183\n",
      "Epoch 30/50\n",
      "262/262 [==============================] - 165s 630ms/step - loss: 0.1464 - accuracy: 0.9403 - val_loss: 0.1632 - val_accuracy: 0.9308\n",
      "Epoch 31/50\n",
      "262/262 [==============================] - 170s 650ms/step - loss: 0.1379 - accuracy: 0.9415 - val_loss: 0.1675 - val_accuracy: 0.9269\n",
      "Epoch 32/50\n",
      "262/262 [==============================] - 172s 658ms/step - loss: 0.1467 - accuracy: 0.9408 - val_loss: 0.1430 - val_accuracy: 0.9394\n",
      "Epoch 33/50\n",
      "262/262 [==============================] - 171s 651ms/step - loss: 0.1306 - accuracy: 0.9532 - val_loss: 0.1318 - val_accuracy: 0.9442\n",
      "Epoch 34/50\n",
      "262/262 [==============================] - 170s 647ms/step - loss: 0.1358 - accuracy: 0.9462 - val_loss: 0.1318 - val_accuracy: 0.9500\n",
      "Epoch 35/50\n",
      "262/262 [==============================] - 169s 645ms/step - loss: 0.1415 - accuracy: 0.9439 - val_loss: 0.1596 - val_accuracy: 0.9394\n",
      "Epoch 36/50\n",
      "262/262 [==============================] - 171s 651ms/step - loss: 0.1320 - accuracy: 0.9465 - val_loss: 0.1570 - val_accuracy: 0.9413\n",
      "Epoch 37/50\n",
      "262/262 [==============================] - 185s 706ms/step - loss: 0.1240 - accuracy: 0.9496 - val_loss: 0.2480 - val_accuracy: 0.8837\n",
      "Epoch 38/50\n",
      "262/262 [==============================] - 180s 685ms/step - loss: 0.1207 - accuracy: 0.9520 - val_loss: 0.1433 - val_accuracy: 0.9404\n",
      "Epoch 39/50\n",
      "262/262 [==============================] - 174s 662ms/step - loss: 0.1335 - accuracy: 0.9467 - val_loss: 0.1321 - val_accuracy: 0.9490\n",
      "Epoch 40/50\n",
      "262/262 [==============================] - 164s 627ms/step - loss: 0.1328 - accuracy: 0.9511 - val_loss: 0.1251 - val_accuracy: 0.9519\n",
      "Epoch 41/50\n",
      "262/262 [==============================] - 160s 608ms/step - loss: 0.1166 - accuracy: 0.9541 - val_loss: 0.1707 - val_accuracy: 0.9317\n",
      "Epoch 42/50\n",
      "262/262 [==============================] - 165s 630ms/step - loss: 0.1363 - accuracy: 0.9514 - val_loss: 0.1250 - val_accuracy: 0.9548\n",
      "Epoch 43/50\n",
      "262/262 [==============================] - 171s 653ms/step - loss: 0.1322 - accuracy: 0.9540 - val_loss: 0.1258 - val_accuracy: 0.9529\n",
      "Epoch 44/50\n",
      "262/262 [==============================] - 173s 661ms/step - loss: 0.1259 - accuracy: 0.9480 - val_loss: 0.1173 - val_accuracy: 0.9558\n",
      "Epoch 45/50\n",
      "262/262 [==============================] - 171s 652ms/step - loss: 0.1070 - accuracy: 0.9557 - val_loss: 0.1289 - val_accuracy: 0.9510\n",
      "Epoch 46/50\n",
      "262/262 [==============================] - 172s 658ms/step - loss: 0.1123 - accuracy: 0.9603 - val_loss: 0.1431 - val_accuracy: 0.9558\n",
      "Epoch 47/50\n",
      "262/262 [==============================] - 172s 657ms/step - loss: 0.1204 - accuracy: 0.9489 - val_loss: 0.1298 - val_accuracy: 0.9538\n",
      "Epoch 48/50\n",
      "262/262 [==============================] - 170s 648ms/step - loss: 0.1068 - accuracy: 0.9580 - val_loss: 0.1392 - val_accuracy: 0.9385\n",
      "Epoch 49/50\n",
      "262/262 [==============================] - 174s 664ms/step - loss: 0.1142 - accuracy: 0.9509 - val_loss: 0.1400 - val_accuracy: 0.9404\n",
      "Epoch 50/50\n",
      "262/262 [==============================] - 173s 658ms/step - loss: 0.1092 - accuracy: 0.9586 - val_loss: 0.1489 - val_accuracy: 0.9260\n"
     ]
    }
   ],
   "source": [
    "history = model.fit_generator(train_generator,\n",
    "                             steps_per_epoch = steps_per_epoch,\n",
    "                             epochs = 50,\n",
    "                             validation_data = validation_generator,\n",
    "                             validation_steps = validation_steps,\n",
    "                             callbacks = [checkpoint, earlyStopping])"
   ]
  },
  {
   "cell_type": "markdown",
   "metadata": {},
   "source": [
    "# Saving the model"
   ]
  },
  {
   "cell_type": "code",
   "execution_count": 25,
   "metadata": {},
   "outputs": [],
   "source": [
    "model_json = model.to_json()\n",
    "\n",
    "with open(\"pneumonia.json\", \"w\") as json_file :\n",
    "    json_file.write(model_json)"
   ]
  },
  {
   "cell_type": "markdown",
   "metadata": {},
   "source": [
    "# Visualizing the Training Performance"
   ]
  },
  {
   "cell_type": "code",
   "execution_count": 26,
   "metadata": {},
   "outputs": [
    {
     "data": {
      "image/png": "[encoded data removed]",
      "text/plain": [
       "<Figure size 864x864 with 2 Axes>"
      ]
     },
     "metadata": {
      "needs_background": "light"
     },
     "output_type": "display_data"
    }
   ],
   "source": [
    "plt.figure(figsize = (12, 12))\n",
    "\n",
    "plt.subplot(2, 2, 1)\n",
    "plt.plot(history.history[\"accuracy\"], label = \"accuracy\")\n",
    "plt.plot(history.history[\"val_accuracy\"], label = \"val_accuracy\")\n",
    "plt.legend()\n",
    "plt.grid()\n",
    "plt.title(\"Accuracy Evaluation\")\n",
    "\n",
    "plt.subplot(2, 2, 2)\n",
    "plt.plot(history.history[\"loss\"], label = \"loss\")\n",
    "plt.plot(history.history[\"val_loss\"], label = \"val_loss\")\n",
    "plt.grid()\n",
    "plt.legend()\n",
    "plt.title(\"Loss Evaluation\")\n",
    "\n",
    "plt.savefig(\"pneumonia_model_history.jpg\")"
   ]
  },
  {
   "cell_type": "markdown",
   "metadata": {},
   "source": [
    "# Getting the accuracy for test set"
   ]
  },
  {
   "cell_type": "code",
   "execution_count": 27,
   "metadata": {},
   "outputs": [
    {
     "name": "stdout",
     "output_type": "stream",
     "text": [
      "65/65 [==============================] - 19s 283ms/step - loss: 0.1489 - accuracy: 0.9260\n",
      "[0.1488603800535202, 0.9259615540504456]\n"
     ]
    }
   ],
   "source": [
    "test_accuracy = model.evaluate(validation_generator)\n",
    "print(test_accuracy)"
   ]
  },
  {
   "cell_type": "code",
   "execution_count": 28,
   "metadata": {},
   "outputs": [
    {
     "name": "stdout",
     "output_type": "stream",
     "text": [
      "65/65 [==============================] - 19s 282ms/step\n"
     ]
    },
    {
     "data": {
      "text/plain": [
       "array([[9.9717176e-01],\n",
       "       [4.0480345e-02],\n",
       "       [1.2826622e-03],\n",
       "       ...,\n",
       "       [1.0000000e+00],\n",
       "       [9.9816692e-01],\n",
       "       [9.0092944e-05]], dtype=float32)"
      ]
     },
     "execution_count": 28,
     "metadata": {},
     "output_type": "execute_result"
    }
   ],
   "source": [
    "preds = model.predict(validation_generator, verbose=1)\n",
    "preds"
   ]
  },
  {
   "cell_type": "code",
   "execution_count": 29,
   "metadata": {},
   "outputs": [
    {
     "name": "stdout",
     "output_type": "stream",
     "text": [
      "[[1.]\n",
      " [0.]\n",
      " [0.]\n",
      " ...\n",
      " [1.]\n",
      " [1.]\n",
      " [0.]]\n"
     ]
    }
   ],
   "source": [
    "predictions = preds.copy()\n",
    "predictions[predictions <= 0.5] = 0\n",
    "predictions[predictions > 0.5] = 1\n",
    "\n",
    "print(predictions)"
   ]
  },
  {
   "cell_type": "code",
   "execution_count": null,
   "metadata": {},
   "outputs": [],
   "source": []
  }
 ],
 "metadata": {
  "kernelspec": {
   "display_name": "Python 3",
   "language": "python",
   "name": "python3"
  },
  "language_info": {
   "codemirror_mode": {
    "name": "ipython",
    "version": 3
   },
   "file_extension": ".py",
   "mimetype": "text/x-python",
   "name": "python",
   "nbconvert_exporter": "python",
   "pygments_lexer": "ipython3",
   "version": "3.8.5"
  }
 },
 "nbformat": 4,
 "nbformat_minor": 4
}
